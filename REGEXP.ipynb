{
  "nbformat": 4,
  "nbformat_minor": 0,
  "metadata": {
    "colab": {
      "provenance": [],
      "collapsed_sections": [],
      "authorship_tag": "ABX9TyNWIYefjIYN0Uz6ptVAJC6o",
      "include_colab_link": true
    },
    "kernelspec": {
      "name": "python3",
      "display_name": "Python 3"
    },
    "language_info": {
      "name": "python"
    }
  },
  "cells": [
    {
      "cell_type": "markdown",
      "metadata": {
        "id": "view-in-github",
        "colab_type": "text"
      },
      "source": [
        "<a href=\"https://colab.research.google.com/github/OlaOye23/Misc/blob/main/REGEXP.ipynb\" target=\"_parent\"><img src=\"https://colab.research.google.com/assets/colab-badge.svg\" alt=\"Open In Colab\"/></a>"
      ]
    },
    {
      "cell_type": "code",
      "source": [],
      "metadata": {
        "id": "vrrARDrRanCk"
      },
      "execution_count": 1,
      "outputs": []
    },
    {
      "cell_type": "code",
      "execution_count": 2,
      "metadata": {
        "colab": {
          "base_uri": "https://localhost:8080/"
        },
        "id": "AikNquWzW-PC",
        "outputId": "ec195677-41d4-4eef-89f9-7c5f0aafee61"
      },
      "outputs": [
        {
          "output_type": "execute_result",
          "data": {
            "text/plain": [
              "True"
            ]
          },
          "metadata": {},
          "execution_count": 2
        }
      ],
      "source": [
        "#create a string and use regular syntax to check if specific substring is present \n",
        "cc_list = '''Tom Koenig <ekoenig@vpwk.com>,\n",
        "Rostam Batmanglij <rostam@vpwk.com>,\n",
        "Chris Tomson <ctomson@vpwk.com,\n",
        "Bobbi Baio <bbaio@vpwk.com'''\n",
        "\n",
        "'Rostam' in cc_list"
      ]
    },
    {
      "cell_type": "code",
      "source": [
        "#use regex to check for specific substring\n",
        "import re \n",
        "re.search(r'Rostam', cc_list)"
      ],
      "metadata": {
        "colab": {
          "base_uri": "https://localhost:8080/"
        },
        "id": "bOoFdaVLXMkX",
        "outputId": "5b16e6f4-399f-4750-c7ec-4e7dfa0fc1e6"
      },
      "execution_count": 3,
      "outputs": [
        {
          "output_type": "execute_result",
          "data": {
            "text/plain": [
              "<re.Match object; span=(31, 37), match='Rostam'>"
            ]
          },
          "metadata": {},
          "execution_count": 3
        }
      ]
    },
    {
      "cell_type": "code",
      "source": [
        "if re.search(r'Rostam', cc_list):\n",
        "  print('Found Rostam')"
      ],
      "metadata": {
        "colab": {
          "base_uri": "https://localhost:8080/"
        },
        "id": "BH3tJkiRXfqN",
        "outputId": "02a0ec3f-f3eb-4acb-de50-ca157faa6f6f"
      },
      "execution_count": 4,
      "outputs": [
        {
          "output_type": "stream",
          "name": "stdout",
          "text": [
            "Found Rostam\n"
          ]
        }
      ]
    },
    {
      "cell_type": "code",
      "source": [
        "#use regex to find variations of a substring\n",
        "re.search(r'[R,B]obb[i,y]', cc_list)"
      ],
      "metadata": {
        "colab": {
          "base_uri": "https://localhost:8080/"
        },
        "id": "JyO0WYeFX1Ep",
        "outputId": "14ea8dcb-7cd1-4f93-b09e-610701a0ebc5"
      },
      "execution_count": 5,
      "outputs": [
        {
          "output_type": "execute_result",
          "data": {
            "text/plain": [
              "<re.Match object; span=(100, 105), match='Bobbi'>"
            ]
          },
          "metadata": {},
          "execution_count": 5
        }
      ]
    },
    {
      "cell_type": "code",
      "source": [
        "#use regex to search for specific 1st the chars and any other 2 letters\n",
        "re.search(r'Chr[a-z][a-z]', cc_list)"
      ],
      "metadata": {
        "colab": {
          "base_uri": "https://localhost:8080/"
        },
        "id": "x4fg_d0_X93h",
        "outputId": "46cf54b0-7265-4f7e-dcf3-5c43f5cb88b9"
      },
      "execution_count": 6,
      "outputs": [
        {
          "output_type": "execute_result",
          "data": {
            "text/plain": [
              "<re.Match object; span=(68, 73), match='Chris'>"
            ]
          },
          "metadata": {},
          "execution_count": 6
        }
      ]
    },
    {
      "cell_type": "code",
      "source": [
        "#use regex to search for a six letter word\n",
        "re.search(r'[A-Za-z]{6}', cc_list)"
      ],
      "metadata": {
        "colab": {
          "base_uri": "https://localhost:8080/"
        },
        "id": "KGvfAoBuYYkK",
        "outputId": "66e19014-7a70-4cbd-c971-cce15354dd66"
      },
      "execution_count": 7,
      "outputs": [
        {
          "output_type": "execute_result",
          "data": {
            "text/plain": [
              "<re.Match object; span=(4, 10), match='Koenig'>"
            ]
          },
          "metadata": {},
          "execution_count": 7
        }
      ]
    },
    {
      "cell_type": "code",
      "source": [
        "#use regex to search for substring with just letters\n",
        "re.search(r'[A-Za-z]+', cc_list)"
      ],
      "metadata": {
        "colab": {
          "base_uri": "https://localhost:8080/"
        },
        "id": "K18_30uMY0oJ",
        "outputId": "448929cb-a962-425a-9232-5297c60229e6"
      },
      "execution_count": 8,
      "outputs": [
        {
          "output_type": "execute_result",
          "data": {
            "text/plain": [
              "<re.Match object; span=(0, 3), match='Tom'>"
            ]
          },
          "metadata": {},
          "execution_count": 8
        }
      ]
    },
    {
      "cell_type": "code",
      "source": [
        "#use regex to search for an email\n",
        "re.search(r'[A-za-z]+@[a-z]+\\.[a-z]+', cc_list)"
      ],
      "metadata": {
        "colab": {
          "base_uri": "https://localhost:8080/"
        },
        "id": "w2vvTV1AY5AT",
        "outputId": "c2fdc79b-3463-4ac3-9e0e-cdf824d9b4cb"
      },
      "execution_count": 9,
      "outputs": [
        {
          "output_type": "execute_result",
          "data": {
            "text/plain": [
              "<re.Match object; span=(12, 28), match='ekoenig@vpwk.com'>"
            ]
          },
          "metadata": {},
          "execution_count": 9
        }
      ]
    },
    {
      "cell_type": "code",
      "source": [
        "#use regex to search for a word\n",
        "re.search(r'\\w+', cc_list)"
      ],
      "metadata": {
        "colab": {
          "base_uri": "https://localhost:8080/"
        },
        "id": "LOd8O_tTZP92",
        "outputId": "4eb5fd7e-1488-43ff-d602-9891951ed9e4"
      },
      "execution_count": 10,
      "outputs": [
        {
          "output_type": "execute_result",
          "data": {
            "text/plain": [
              "<re.Match object; span=(0, 3), match='Tom'>"
            ]
          },
          "metadata": {},
          "execution_count": 10
        }
      ]
    },
    {
      "cell_type": "code",
      "source": [
        "#use regex to search for an email\n",
        "matched = re.search(r'\\w+\\@\\w+\\.+\\w+', cc_list)\n",
        "#matched.group(1)"
      ],
      "metadata": {
        "id": "G_VbSYcqZmx7"
      },
      "execution_count": 11,
      "outputs": []
    },
    {
      "cell_type": "code",
      "source": [
        "##use regex to search for emails and group parts of the email\n",
        "matched = re.search(r'(\\w+)\\@(\\w+)\\.(\\w+)', cc_list)\n",
        "print(matched.group(0))\n",
        "print(matched.group(1))\n",
        "print(matched.group(2))\n",
        "print(matched.group(3))"
      ],
      "metadata": {
        "colab": {
          "base_uri": "https://localhost:8080/"
        },
        "id": "Oxm9C7deduTV",
        "outputId": "3005549a-dd36-4eae-d0d1-b2380a19f1ce"
      },
      "execution_count": 12,
      "outputs": [
        {
          "output_type": "stream",
          "name": "stdout",
          "text": [
            "ekoenig@vpwk.com\n",
            "ekoenig\n",
            "vpwk\n",
            "com\n"
          ]
        }
      ]
    },
    {
      "cell_type": "code",
      "source": [
        "#use regex to search for emails and group parts of the email- with group names\n",
        "matched = re.search(r'(?P<name>\\w+)\\@(?P<SLD>\\w+)\\.(?P<TLD>\\w+)', cc_list)\n",
        "print(matched.group(\"name\"))\n",
        "print(f'''\n",
        "name: {matched.group('name')},\n",
        "SLD: {matched.group('SLD')},\n",
        "TLD: {matched.group('TLD')}\n",
        "''')\n"
      ],
      "metadata": {
        "colab": {
          "base_uri": "https://localhost:8080/"
        },
        "id": "cmMhWjbRcDMr",
        "outputId": "8965b566-3f27-4490-b8cb-f1e56005fadb"
      },
      "execution_count": 13,
      "outputs": [
        {
          "output_type": "stream",
          "name": "stdout",
          "text": [
            "ekoenig\n",
            "\n",
            "name: ekoenig,\n",
            "SLD: vpwk,\n",
            "TLD: com\n",
            "\n"
          ]
        }
      ]
    },
    {
      "cell_type": "code",
      "source": [],
      "metadata": {
        "id": "wSM7IG0XZzFe"
      },
      "execution_count": 13,
      "outputs": []
    },
    {
      "cell_type": "code",
      "source": [
        "#use regex to find multiple matches \n",
        "matched = re.findall(r'\\w+\\@\\w+\\.\\w+', cc_list)\n",
        "matched"
      ],
      "metadata": {
        "colab": {
          "base_uri": "https://localhost:8080/"
        },
        "id": "7LXKX4haaLa3",
        "outputId": "1912ce8f-000d-482e-9515-da6157657f7e"
      },
      "execution_count": 14,
      "outputs": [
        {
          "output_type": "execute_result",
          "data": {
            "text/plain": [
              "['ekoenig@vpwk.com', 'rostam@vpwk.com', 'ctomson@vpwk.com', 'bbaio@vpwk.com']"
            ]
          },
          "metadata": {},
          "execution_count": 14
        }
      ]
    },
    {
      "cell_type": "code",
      "source": [
        "#use regex to find multiple matches and group them\n",
        "matched = re.findall(r'(\\w+)\\@(\\w+)\\.(\\w+)', cc_list)\n",
        "matched"
      ],
      "metadata": {
        "colab": {
          "base_uri": "https://localhost:8080/"
        },
        "id": "-bbkv_SabTRy",
        "outputId": "0300e41e-2cb4-4366-c7ef-32c275128c24"
      },
      "execution_count": 15,
      "outputs": [
        {
          "output_type": "execute_result",
          "data": {
            "text/plain": [
              "[('ekoenig', 'vpwk', 'com'),\n",
              " ('rostam', 'vpwk', 'com'),\n",
              " ('ctomson', 'vpwk', 'com'),\n",
              " ('bbaio', 'vpwk', 'com')]"
            ]
          },
          "metadata": {},
          "execution_count": 15
        }
      ]
    },
    {
      "cell_type": "code",
      "source": [
        "#go through matches and print members of particular group\n",
        "names = [x[0] for x in matched]\n",
        "names"
      ],
      "metadata": {
        "colab": {
          "base_uri": "https://localhost:8080/"
        },
        "id": "ICY-YuZPbe4l",
        "outputId": "58250558-326f-4ade-c67a-17ad1acc867a"
      },
      "execution_count": 16,
      "outputs": [
        {
          "output_type": "execute_result",
          "data": {
            "text/plain": [
              "['ekoenig', 'rostam', 'ctomson', 'bbaio']"
            ]
          },
          "metadata": {},
          "execution_count": 16
        }
      ]
    },
    {
      "cell_type": "code",
      "source": [
        "#use regex to find multiple matches and store in an iterable\n",
        "matched = re.finditer(r'\\w+\\@\\w+\\.\\w+', cc_list)\n",
        "print(matched)\n",
        "print(next(matched))\n",
        "print(next(matched))"
      ],
      "metadata": {
        "colab": {
          "base_uri": "https://localhost:8080/"
        },
        "id": "ko274UZKb4bU",
        "outputId": "fb8707f3-3fc7-4eaa-c672-33f22717de22"
      },
      "execution_count": 17,
      "outputs": [
        {
          "output_type": "stream",
          "name": "stdout",
          "text": [
            "<callable_iterator object at 0x7f0f89d10690>\n",
            "<re.Match object; span=(12, 28), match='ekoenig@vpwk.com'>\n",
            "<re.Match object; span=(50, 65), match='rostam@vpwk.com'>\n"
          ]
        }
      ]
    },
    {
      "cell_type": "code",
      "source": [
        "for m in matched:\n",
        "  print(m.groupdict())"
      ],
      "metadata": {
        "colab": {
          "base_uri": "https://localhost:8080/"
        },
        "id": "bTlh4XJeegzq",
        "outputId": "eadd9f52-c8fb-48e8-d1ed-27aab016a340"
      },
      "execution_count": 18,
      "outputs": [
        {
          "output_type": "stream",
          "name": "stdout",
          "text": [
            "{}\n",
            "{}\n"
          ]
        }
      ]
    },
    {
      "cell_type": "code",
      "source": [
        "#use regex to substitute a value\n",
        "re.sub(\"\\d\",\"#\", 'The passcode you entered was 09876')"
      ],
      "metadata": {
        "colab": {
          "base_uri": "https://localhost:8080/",
          "height": 35
        },
        "id": "lH7zzrLyfFDp",
        "outputId": "15b13aa1-7bf5-4215-e588-9cf2edbc0a8d"
      },
      "execution_count": 19,
      "outputs": [
        {
          "output_type": "execute_result",
          "data": {
            "text/plain": [
              "'The passcode you entered was #####'"
            ],
            "application/vnd.google.colaboratory.intrinsic+json": {
              "type": "string"
            }
          },
          "metadata": {},
          "execution_count": 19
        }
      ]
    },
    {
      "cell_type": "code",
      "source": [
        "#use regex to replace a pattern with another pattern\n",
        "users = re.sub(\n",
        "\"(?P<name>\\w+)\\@(?P<SLD>\\w+)\\.(?P<TLD>\\w+)\",\n",
        "\"\\g<TLD>\\.\\g<SLD>\\.\\g<name>\" ,\n",
        "cc_list)\n",
        "users"
      ],
      "metadata": {
        "colab": {
          "base_uri": "https://localhost:8080/",
          "height": 35
        },
        "id": "2Q6C1pYfgHAC",
        "outputId": "d23f2526-5f43-40a4-b454-bfd175c93994"
      },
      "execution_count": 20,
      "outputs": [
        {
          "output_type": "execute_result",
          "data": {
            "text/plain": [
              "'Tom Koenig <com\\\\.vpwk\\\\.ekoenig>,\\nRostam Batmanglij <com\\\\.vpwk\\\\.rostam>,\\nChris Tomson <com\\\\.vpwk\\\\.ctomson,\\nBobbi Baio <com\\\\.vpwk\\\\.bbaio'"
            ],
            "application/vnd.google.colaboratory.intrinsic+json": {
              "type": "string"
            }
          },
          "metadata": {},
          "execution_count": 20
        }
      ]
    },
    {
      "cell_type": "code",
      "source": [
        "regx = re.compile(r'\\w+\\@\\w+\\.\\w+')\n",
        "print(regx.search(cc_list))"
      ],
      "metadata": {
        "colab": {
          "base_uri": "https://localhost:8080/"
        },
        "id": "lz-2bzDbjRY6",
        "outputId": "6672b92e-7410-4ef8-f6b2-0a804240a545"
      },
      "execution_count": 21,
      "outputs": [
        {
          "output_type": "stream",
          "name": "stdout",
          "text": [
            "<re.Match object; span=(12, 28), match='ekoenig@vpwk.com'>\n"
          ]
        }
      ]
    },
    {
      "cell_type": "code",
      "source": [],
      "metadata": {
        "id": "3zPKw0_MkUZj"
      },
      "execution_count": 21,
      "outputs": []
    }
  ]
}