{
  "nbformat": 4,
  "nbformat_minor": 0,
  "metadata": {
    "colab": {
      "provenance": [],
      "collapsed_sections": [],
      "authorship_tag": "ABX9TyPfM7T53/Rz740Q5ZEzyuc3",
      "include_colab_link": true
    },
    "kernelspec": {
      "name": "python3",
      "display_name": "Python 3"
    },
    "language_info": {
      "name": "python"
    }
  },
  "cells": [
    {
      "cell_type": "markdown",
      "metadata": {
        "id": "view-in-github",
        "colab_type": "text"
      },
      "source": [
        "<a href=\"https://colab.research.google.com/github/OlaOye23/Misc/blob/main/NKATAA_SCRAPER.ipynb\" target=\"_parent\"><img src=\"https://colab.research.google.com/assets/colab-badge.svg\" alt=\"Open In Colab\"/></a>"
      ]
    },
    {
      "cell_type": "code",
      "metadata": {
        "id": "xBFFjrUhczaJ"
      },
      "source": [
        "def scrape_nkataa(category):\n",
        "  #Python program to scrape website \n",
        "  #and save quotes from website \n",
        "  import requests \n",
        "  from bs4 import BeautifulSoup\n",
        "  from IPython.core.display import HTML\n",
        "\n",
        "  styles = requests.get(\"https://raw.githubusercontent.com/Harvard-IACS/2018-CS109A/master/content/styles/cs109.css\").text\n",
        "  HTML(styles)\n",
        "\n",
        "  #GET HTML DOM contents\n",
        "  URL = \"https://www.nkataa.com/\"+ category + \"?items_per_page=4000\" #URL for getting BDC rates from abokiFX.com\n",
        "  r = requests.get(URL) #response to the HTTP request on the abokiFX site\n",
        "  soup = BeautifulSoup(r.content, 'html5lib') #'soupify' for traversal using bs4\n",
        "\n",
        "\n",
        "  body = soup.find('table', attrs = {'class': 'fixed-layout multicolumns-list table-width'}) \n",
        "\n",
        "\n",
        "  names = []\n",
        "  names_ = body.findAll('a', attrs = {'class': 'product-title'}) \n",
        "  for name in names_:\n",
        "    names.append(name.text)\n",
        "\n",
        "\n",
        "  prices = []\n",
        "  prices_ = body.findAll('div', attrs = {'class': 'prices'})\n",
        "  for price in prices_:\n",
        "    try:\n",
        "      prices.append(price.findAll('span', attrs = {'class': 'price-num'})[1].text)\n",
        "    except:\n",
        "      prices.append(price.findAll('span', attrs = {'class': 'no-price'})[0].text)\n",
        "\n",
        "  imgURL = []\n",
        "  imgURL_ = body.findAll('table', attrs = {'class': 'center-block'}) \n",
        "  for url in imgURL_:\n",
        "    try:\n",
        "      imgURL.append(url.find('img', attrs = {'class': 'pict'})['src'])\n",
        "    except:\n",
        "      imgURL.append(' ')\n",
        "\n",
        "  import pandas as pd\n",
        "  prod_list = pd.DataFrame([names, prices, imgURL]).T\n",
        "  file_name = '/content/NKATAA ' + category + ' product list.csv'\n",
        "  print(prod_list[:3])\n",
        "  prod_list.to_csv(file_name, index=False)\n",
        "  print('completed: '+ category)\n",
        "\n"
      ],
      "execution_count": null,
      "outputs": []
    },
    {
      "cell_type": "code",
      "metadata": {
        "id": "uy11N5UNzCAD",
        "colab": {
          "base_uri": "https://localhost:8080/"
        },
        "outputId": "014c3df9-01c0-4c62-c323-97c8a776246e"
      },
      "source": [
        "categories = ['baby',\n",
        "              'bulk-purchase',\n",
        "              'drinks',\n",
        "              'food-cupboard',\n",
        "              'fresh',\n",
        "              'frozen-products',\n",
        "              'health-and-beauty',\n",
        "              'household',\n",
        "              'stationery',\n",
        "              'naija-food-section'\n",
        "              ]\n",
        "\n",
        "#categories = ['fresh']\n",
        "for category in categories:\n",
        "  try:\n",
        "    scrape_nkataa(category)\n",
        "  except:\n",
        "    print('error occured: skipping...: '+ category)"
      ],
      "execution_count": null,
      "outputs": [
        {
          "output_type": "stream",
          "name": "stdout",
          "text": [
            "error occured: skipping...\n",
            "                                               0  ...                                                  2\n",
            "0  Nestle Pure Life Table Water (60cl x 20) C...  ...  https://dr35ct9ol6mx2.cloudfront.net/images/th...\n",
            "1                      Rose Belle Serviette Pack  ...  https://dr35ct9ol6mx2.cloudfront.net/images/th...\n",
            "2                    Royco Beef Cubes (4g x 100)  ...  https://dr35ct9ol6mx2.cloudfront.net/images/th...\n",
            "\n",
            "[3 rows x 3 columns]\n",
            "completed: bulk-purchase\n",
            "                                               0  ...                                                  2\n",
            "0  Nestle Pure Life Table Water (60cl x 20) C...  ...  https://dr35ct9ol6mx2.cloudfront.net/images/th...\n",
            "1                             Fresh Orange Juice  ...  https://dr35ct9ol6mx2.cloudfront.net/images/th...\n",
            "2              Nestle Pure Life Table Water 60cl  ...  https://dr35ct9ol6mx2.cloudfront.net/images/th...\n",
            "\n",
            "[3 rows x 3 columns]\n",
            "completed: drinks\n",
            "                                               0  ...                                                  2\n",
            "0     Bushashen Kubewa (Dried Okro Powder) (Cup)  ...  https://dr35ct9ol6mx2.cloudfront.net/images/th...\n",
            "1  Indomie Instant Chicken Flavor Super Pack ...  ...  https://dr35ct9ol6mx2.cloudfront.net/images/th...\n",
            "2  Cassanovas Cassava Chips - Salt and Pepper...  ...  https://dr35ct9ol6mx2.cloudfront.net/images/th...\n",
            "\n",
            "[3 rows x 3 columns]\n",
            "completed: food-cupboard\n",
            "error occured: skipping...\n",
            "error occured: skipping...\n",
            "                                     0  ...                                                  2\n",
            "0                           Postinor 2  ...  https://dr35ct9ol6mx2.cloudfront.net/images/th...\n",
            "1  Panadol Extra (1 Card - 10 Tablets)  ...  https://dr35ct9ol6mx2.cloudfront.net/images/th...\n",
            "2                            Nail File  ...  https://dr35ct9ol6mx2.cloudfront.net/images/th...\n",
            "\n",
            "[3 rows x 3 columns]\n",
            "completed: health-and-beauty\n",
            "                             0  ...                                                  2\n",
            "0  Lu Blue Toilet Freshner 50g  ...  https://dr35ct9ol6mx2.cloudfront.net/images/th...\n",
            "1                     Scissors  ...  https://dr35ct9ol6mx2.cloudfront.net/images/th...\n",
            "2     Big Foam Sponge (6 Pack)  ...  https://dr35ct9ol6mx2.cloudfront.net/images/th...\n",
            "\n",
            "[3 rows x 3 columns]\n",
            "completed: household\n",
            "                           0  ...                                                  2\n",
            "0       Schneider Pen (Blue)  ...  https://dr35ct9ol6mx2.cloudfront.net/images/th...\n",
            "1      Schneider Pen (Black)  ...  https://dr35ct9ol6mx2.cloudfront.net/images/th...\n",
            "2  Bic Pen Pack of 50 (Blue)  ...  https://dr35ct9ol6mx2.cloudfront.net/images/th...\n",
            "\n",
            "[3 rows x 3 columns]\n",
            "completed: stationery\n",
            "                      0  ...                                                  2\n",
            "0           Agidi White  ...  https://dr35ct9ol6mx2.cloudfront.net/images/th...\n",
            "1  Assorted Meat (500g)  ...  https://dr35ct9ol6mx2.cloudfront.net/images/th...\n",
            "2      Fresh Stock Fish  ...  https://dr35ct9ol6mx2.cloudfront.net/images/th...\n",
            "\n",
            "[3 rows x 3 columns]\n",
            "completed: naija-food-section\n"
          ]
        }
      ]
    },
    {
      "cell_type": "markdown",
      "metadata": {
        "id": "yOd0FJoTS_cN"
      },
      "source": []
    },
    {
      "cell_type": "code",
      "metadata": {
        "id": "sTajd1dyUymm"
      },
      "source": [],
      "execution_count": null,
      "outputs": []
    },
    {
      "cell_type": "code",
      "metadata": {
        "id": "RHZu8IjmUy4e"
      },
      "source": [],
      "execution_count": null,
      "outputs": []
    },
    {
      "cell_type": "code",
      "metadata": {
        "id": "6RMmE3kqUzFP"
      },
      "source": [],
      "execution_count": null,
      "outputs": []
    },
    {
      "cell_type": "code",
      "metadata": {
        "id": "hHEqZebiewBA"
      },
      "source": [],
      "execution_count": null,
      "outputs": []
    }
  ]
}